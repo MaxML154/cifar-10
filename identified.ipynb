{
 "cells": [
  {
   "cell_type": "code",
   "execution_count": 1,
   "metadata": {},
   "outputs": [],
   "source": [
    "import numpy as np\n",
    "import tensorflow as tf\n",
    "from tensorflow.keras import layers, models\n",
    "import os\n",
    "import pickle\n",
    "import matplotlib.pyplot as plt\n",
    "gpus = tf.config.experimental.list_physical_devices('GPU')"
   ]
  },
  {
   "cell_type": "code",
   "execution_count": 2,
   "metadata": {},
   "outputs": [],
   "source": [
    "def load_cifar10_data(path):\n",
    "    # CIFAR-10 数据集保存为多个pickled文件\n",
    "    with open(path, 'rb') as file:\n",
    "        data = pickle.load(file, encoding='bytes')\n",
    "    return data\n",
    "\n",
    "# 加载CIFAR-10数据\n",
    "def load_cifar10():\n",
    "    # CIFAR-10包含多个批次，这里加载训练集\n",
    "    train_data = []\n",
    "    train_labels = []\n",
    "\n",
    "    # 假设数据文件已经解压\n",
    "    for batch in range(1, 6):\n",
    "        batch_file = f'./cifar-10-batches-py/data_batch_{batch}'\n",
    "        batch_data = load_cifar10_data(batch_file)\n",
    "        train_data.append(batch_data[b'data'])\n",
    "        train_labels.append(batch_data[b'labels'])\n",
    "    \n",
    "    # 合并所有批次\n",
    "    train_data = np.vstack(train_data)\n",
    "    train_labels = np.hstack(train_labels)\n",
    "    \n",
    "    # 加载测试集\n",
    "    test_batch = load_cifar10_data('./cifar-10-batches-py/test_batch')\n",
    "    test_data = test_batch[b'data']\n",
    "    test_labels = np.array(test_batch[b'labels'])\n",
    "\n",
    "    return train_data, train_labels, test_data, test_labels"
   ]
  },
  {
   "cell_type": "code",
   "execution_count": 3,
   "metadata": {},
   "outputs": [],
   "source": [
    "train_data, train_labels, test_data, test_labels = load_cifar10()"
   ]
  },
  {
   "cell_type": "code",
   "execution_count": 4,
   "metadata": {},
   "outputs": [],
   "source": [
    "# CIFAR-10数据集为原始像素值，形状为 (N, 3072) 每个样本为一个1D数组，RGB值连接为一维\n",
    "# 重塑数据到 32x32x3 图像格式\n",
    "train_data = train_data.reshape(-1, 32, 32, 3).astype('float32')\n",
    "test_data = test_data.reshape(-1, 32, 32, 3).astype('float32')\n",
    "\n",
    "# 标准化数据到 [0, 1] 范围\n",
    "train_data /= 255.0\n",
    "test_data /= 255.0"
   ]
  },
  {
   "cell_type": "code",
   "execution_count": 5,
   "metadata": {},
   "outputs": [
    {
     "data": {
      "text/plain": [
       "<matplotlib.image.AxesImage at 0x1d781c554e0>"
      ]
     },
     "execution_count": 5,
     "metadata": {},
     "output_type": "execute_result"
    },
    {
     "data": {
      "image/png": "[encoded data removed]",
      "text/plain": [
       "<Figure size 432x288 with 1 Axes>"
      ]
     },
     "metadata": {
      "needs_background": "light"
     },
     "output_type": "display_data"
    }
   ],
   "source": [
    "plt.imshow(train_data[1])"
   ]
  },
  {
   "cell_type": "code",
   "execution_count": 6,
   "metadata": {},
   "outputs": [
    {
     "name": "stdout",
     "output_type": "stream",
     "text": [
      "Model: \"sequential\"\n",
      "_________________________________________________________________\n",
      "Layer (type)                 Output Shape              Param #   \n",
      "=================================================================\n",
      "conv2d (Conv2D)              (None, 30, 30, 32)        896       \n",
      "_________________________________________________________________\n",
      "max_pooling2d (MaxPooling2D) (None, 15, 15, 32)        0         \n",
      "_________________________________________________________________\n",
      "conv2d_1 (Conv2D)            (None, 13, 13, 64)        18496     \n",
      "_________________________________________________________________\n",
      "max_pooling2d_1 (MaxPooling2 (None, 6, 6, 64)          0         \n",
      "_________________________________________________________________\n",
      "conv2d_2 (Conv2D)            (None, 4, 4, 64)          36928     \n",
      "_________________________________________________________________\n",
      "flatten (Flatten)            (None, 1024)              0         \n",
      "_________________________________________________________________\n",
      "dense (Dense)                (None, 64)                65600     \n",
      "_________________________________________________________________\n",
      "dense_1 (Dense)              (None, 10)                650       \n",
      "=================================================================\n",
      "Total params: 122,570\n",
      "Trainable params: 122,570\n",
      "Non-trainable params: 0\n",
      "_________________________________________________________________\n"
     ]
    }
   ],
   "source": [
    "# 构建卷积神经网络模型\n",
    "model = models.Sequential([\n",
    "    layers.Conv2D(32, (3, 3), activation='relu', input_shape=(32, 32, 3)),\n",
    "    layers.MaxPooling2D((2, 2)),\n",
    "    \n",
    "    layers.Conv2D(64, (3, 3), activation='relu'),\n",
    "    layers.MaxPooling2D((2, 2)),\n",
    "    \n",
    "    layers.Conv2D(64, (3, 3), activation='relu'),\n",
    "    \n",
    "    layers.Flatten(),\n",
    "    layers.Dense(64, activation='relu'),\n",
    "    layers.Dense(10, activation='softmax')  # 10个类别\n",
    "])\n",
    "\n",
    "# 编译模型\n",
    "model.compile(optimizer='adam',\n",
    "              loss='sparse_categorical_crossentropy',  # 适用于整数标签\n",
    "              metrics=['accuracy'])\n",
    "\n",
    "# 打印模型概况\n",
    "model.summary()\n"
   ]
  },
  {
   "cell_type": "code",
   "execution_count": 7,
   "metadata": {},
   "outputs": [
    {
     "name": "stdout",
     "output_type": "stream",
     "text": [
      "Epoch 1/10\n",
      "WARNING:tensorflow:AutoGraph could not transform <function Model.make_train_function.<locals>.train_function at 0x000001D78E128840> and will run it as-is.\n",
      "Please report this to the TensorFlow team. When filing the bug, set the verbosity to 10 (on Linux, `export AUTOGRAPH_VERBOSITY=10`) and attach the full output.\n",
      "Cause: 'arguments' object has no attribute 'posonlyargs'\n",
      "To silence this warning, decorate the function with @tf.autograph.experimental.do_not_convert\n",
      "WARNING: AutoGraph could not transform <function Model.make_train_function.<locals>.train_function at 0x000001D78E128840> and will run it as-is.\n",
      "Please report this to the TensorFlow team. When filing the bug, set the verbosity to 10 (on Linux, `export AUTOGRAPH_VERBOSITY=10`) and attach the full output.\n",
      "Cause: 'arguments' object has no attribute 'posonlyargs'\n",
      "To silence this warning, decorate the function with @tf.autograph.experimental.do_not_convert\n",
      "782/782 [==============================] - ETA: 0s - loss: 1.6804 - accuracy: 0.3908WARNING:tensorflow:AutoGraph could not transform <function Model.make_test_function.<locals>.test_function at 0x000001D79C3A90D0> and will run it as-is.\n",
      "Please report this to the TensorFlow team. When filing the bug, set the verbosity to 10 (on Linux, `export AUTOGRAPH_VERBOSITY=10`) and attach the full output.\n",
      "Cause: 'arguments' object has no attribute 'posonlyargs'\n",
      "To silence this warning, decorate the function with @tf.autograph.experimental.do_not_convert\n",
      "WARNING: AutoGraph could not transform <function Model.make_test_function.<locals>.test_function at 0x000001D79C3A90D0> and will run it as-is.\n",
      "Please report this to the TensorFlow team. When filing the bug, set the verbosity to 10 (on Linux, `export AUTOGRAPH_VERBOSITY=10`) and attach the full output.\n",
      "Cause: 'arguments' object has no attribute 'posonlyargs'\n",
      "To silence this warning, decorate the function with @tf.autograph.experimental.do_not_convert\n",
      "782/782 [==============================] - 6s 6ms/step - loss: 1.6804 - accuracy: 0.3908 - val_loss: 1.4796 - val_accuracy: 0.4686\n",
      "Epoch 2/10\n",
      "782/782 [==============================] - 4s 6ms/step - loss: 1.3785 - accuracy: 0.5077 - val_loss: 1.3215 - val_accuracy: 0.5228\n",
      "Epoch 3/10\n",
      "782/782 [==============================] - 4s 5ms/step - loss: 1.2426 - accuracy: 0.5596 - val_loss: 1.2872 - val_accuracy: 0.5304\n",
      "Epoch 4/10\n",
      "782/782 [==============================] - 4s 5ms/step - loss: 1.1560 - accuracy: 0.5926 - val_loss: 1.1840 - val_accuracy: 0.5760\n",
      "Epoch 5/10\n",
      "782/782 [==============================] - 4s 5ms/step - loss: 1.0895 - accuracy: 0.6149 - val_loss: 1.1371 - val_accuracy: 0.5997\n",
      "Epoch 6/10\n",
      "782/782 [==============================] - 4s 5ms/step - loss: 1.0317 - accuracy: 0.6357 - val_loss: 1.1839 - val_accuracy: 0.5874\n",
      "Epoch 7/10\n",
      "782/782 [==============================] - 4s 5ms/step - loss: 0.9881 - accuracy: 0.6502 - val_loss: 1.0831 - val_accuracy: 0.6171\n",
      "Epoch 8/10\n",
      "782/782 [==============================] - 5s 6ms/step - loss: 0.9505 - accuracy: 0.6658 - val_loss: 1.0759 - val_accuracy: 0.6258\n",
      "Epoch 9/10\n",
      "782/782 [==============================] - 4s 6ms/step - loss: 0.9090 - accuracy: 0.6808 - val_loss: 1.0804 - val_accuracy: 0.6279\n",
      "Epoch 10/10\n",
      "782/782 [==============================] - 4s 5ms/step - loss: 0.8764 - accuracy: 0.6913 - val_loss: 1.0693 - val_accuracy: 0.6333\n",
      "313/313 [==============================] - 1s 2ms/step - loss: 1.0693 - accuracy: 0.6333\n",
      "Test accuracy: 0.6333000063896179\n"
     ]
    }
   ],
   "source": [
    "# 训练模型，确保数据在GPU上\n",
    "with tf.device('/GPU:0'):  # 如果有多个GPU，选择一个GPU进行训练\n",
    "    history = model.fit(train_data, train_labels, epochs=10, batch_size=64, validation_data=(test_data, test_labels))\n",
    "# 评估模型\n",
    "test_loss, test_acc = model.evaluate(test_data, test_labels)\n",
    "print(f\"Test accuracy: {test_acc}\")"
   ]
  },
  {
   "cell_type": "code",
   "execution_count": 13,
   "metadata": {},
   "outputs": [
    {
     "data": {
      "image/png": "[encoded data removed]",
      "text/plain": [
       "<Figure size 432x288 with 2 Axes>"
      ]
     },
     "metadata": {
      "needs_background": "light"
     },
     "output_type": "display_data"
    },
    {
     "name": "stdout",
     "output_type": "stream",
     "text": [
      "313/313 [==============================] - 0s 983us/step - loss: 0.0000e+00 - accuracy: 0.0000e+00\n",
      "Test accuracy: 0.0\n"
     ]
    }
   ],
   "source": [
    "# 损失函数曲线\n",
    "plt.subplot(1, 2, 1)\n",
    "plt.plot(history.history['loss'], label='Training Loss')\n",
    "plt.plot(history.history['val_loss'], label='Validation Loss')\n",
    "plt.title('Loss Function')\n",
    "plt.xlabel('Epochs')\n",
    "plt.ylabel('Loss')\n",
    "plt.legend()\n",
    "\n",
    "# 准确率曲线\n",
    "plt.subplot(1, 2, 2)\n",
    "plt.plot(history.history['accuracy'], label='Training Accuracy')\n",
    "plt.plot(history.history['val_accuracy'], label='Validation Accuracy')\n",
    "plt.title('Accuracy')\n",
    "plt.xlabel('Epochs')\n",
    "plt.ylabel('Accuracy')\n",
    "plt.legend()\n",
    "\n",
    "plt.tight_layout()\n",
    "plt.show()\n",
    "\n",
    "# 评估模型并输出准确率\n",
    "test_loss, test_acc = model.evaluate(test_data)\n",
    "print(f\"Test accuracy: {test_acc}\")"
   ]
  },
  {
   "cell_type": "code",
   "execution_count": 8,
   "metadata": {},
   "outputs": [
    {
     "name": "stdout",
     "output_type": "stream",
     "text": [
      "WARNING:tensorflow:AutoGraph could not transform <function Model.make_predict_function.<locals>.predict_function at 0x000001D79E4DF9D8> and will run it as-is.\n",
      "Please report this to the TensorFlow team. When filing the bug, set the verbosity to 10 (on Linux, `export AUTOGRAPH_VERBOSITY=10`) and attach the full output.\n",
      "Cause: 'arguments' object has no attribute 'posonlyargs'\n",
      "To silence this warning, decorate the function with @tf.autograph.experimental.do_not_convert\n",
      "WARNING: AutoGraph could not transform <function Model.make_predict_function.<locals>.predict_function at 0x000001D79E4DF9D8> and will run it as-is.\n",
      "Please report this to the TensorFlow team. When filing the bug, set the verbosity to 10 (on Linux, `export AUTOGRAPH_VERBOSITY=10`) and attach the full output.\n",
      "Cause: 'arguments' object has no attribute 'posonlyargs'\n",
      "To silence this warning, decorate the function with @tf.autograph.experimental.do_not_convert\n"
     ]
    }
   ],
   "source": [
    "# 使用训练好的模型进行预测\n",
    "predictions = model.predict(test_data)\n",
    "\n",
    "# 获取预测结果的类别\n",
    "predicted_classes = np.argmax(predictions, axis=-1)\n",
    "\n"
   ]
  },
  {
   "cell_type": "code",
   "execution_count": 9,
   "metadata": {},
   "outputs": [
    {
     "name": "stdout",
     "output_type": "stream",
     "text": [
      "[3 8 8 ... 5 4 7] [[3.21329609e-02 2.11733505e-02 8.46046582e-02 ... 1.03068855e-02\n",
      "  1.11988015e-01 1.48779929e-01]\n",
      " [8.13274980e-02 1.77099586e-01 7.30769185e-04 ... 1.41092192e-03\n",
      "  6.99737132e-01 3.82589139e-02]\n",
      " [6.98099956e-02 4.79899012e-02 4.59090516e-04 ... 9.37858887e-04\n",
      "  8.47845137e-01 1.52674057e-02]\n",
      " ...\n",
      " [1.78057491e-03 3.85490603e-05 1.44893602e-01 ... 6.93987682e-03\n",
      "  7.98225461e-04 9.15293989e-04]\n",
      " [3.76622044e-02 4.28213924e-02 7.68949017e-02 ... 1.14712492e-01\n",
      "  2.48201308e-03 1.91730913e-03]\n",
      " [6.22392748e-04 1.68192728e-05 3.83332628e-03 ... 9.10348535e-01\n",
      "  1.03694274e-05 6.02836546e-04]]\n"
     ]
    }
   ],
   "source": [
    "print(predicted_classes,predictions)"
   ]
  },
  {
   "cell_type": "code",
   "execution_count": 10,
   "metadata": {},
   "outputs": [
    {
     "name": "stdout",
     "output_type": "stream",
     "text": [
      "Predicted class label for the first image: 3\n"
     ]
    }
   ],
   "source": [
    "# 输出某个样本的预测类别（分类标签）\n",
    "print(f\"Predicted class label for the first image: {predicted_classes[0]}\")"
   ]
  },
  {
   "cell_type": "code",
   "execution_count": 11,
   "metadata": {},
   "outputs": [
    {
     "data": {
      "image/png": "[encoded data removed]",
      "text/plain": [
       "<Figure size 432x288 with 1 Axes>"
      ]
     },
     "metadata": {
      "needs_background": "light"
     },
     "output_type": "display_data"
    }
   ],
   "source": [
    "# 显示某个样本的预测结果\n",
    "\n",
    "plt.imshow(test_data[0])\n",
    "plt.title(f\"Predicted Class: {predicted_classes[0]}\")\n",
    "plt.show()"
   ]
  },
  {
   "cell_type": "code",
   "execution_count": null,
   "metadata": {},
   "outputs": [],
   "source": []
  }
 ],
 "metadata": {
  "kernelspec": {
   "display_name": "py36_tensorflow",
   "language": "python",
   "name": "python3"
  },
  "language_info": {
   "codemirror_mode": {
    "name": "ipython",
    "version": 3
   },
   "file_extension": ".py",
   "mimetype": "text/x-python",
   "name": "python",
   "nbconvert_exporter": "python",
   "pygments_lexer": "ipython3",
   "version": "3.6.2"
  }
 },
 "nbformat": 4,
 "nbformat_minor": 2
}
